{
 "cells": [
  {
   "cell_type": "markdown",
   "id": "0faabf64",
   "metadata": {
    "papermill": {
     "duration": 0.004543,
     "end_time": "2025-02-21T08:46:31.085872",
     "exception": false,
     "start_time": "2025-02-21T08:46:31.081329",
     "status": "completed"
    },
    "tags": []
   },
   "source": [
    "**This notebook is an exercise in the [Python](https://www.kaggle.com/learn/python) course.  You can reference the tutorial at [this link](https://www.kaggle.com/colinmorris/hello-python).**\n",
    "\n",
    "---\n"
   ]
  },
  {
   "cell_type": "markdown",
   "id": "cfb7a04c",
   "metadata": {
    "papermill": {
     "duration": 0.003361,
     "end_time": "2025-02-21T08:46:31.092841",
     "exception": false,
     "start_time": "2025-02-21T08:46:31.089480",
     "status": "completed"
    },
    "tags": []
   },
   "source": [
    "Welcome to your first set of Python coding problems.  If this is your first time using Kaggle Notebooks, welcome! \n",
    "\n",
    "Notebooks are composed of blocks (called \"cells\") of text and code. Each of these is editable, though you'll mainly be editing the code cells to answer some questions.\n",
    "\n",
    "To get started, try running the code cell below (by pressing the ► button, or clicking on the cell and pressing ctrl+enter on your keyboard)."
   ]
  },
  {
   "cell_type": "code",
   "execution_count": 1,
   "id": "c9241639",
   "metadata": {
    "execution": {
     "iopub.execute_input": "2025-02-21T08:46:31.101139Z",
     "iopub.status.busy": "2025-02-21T08:46:31.100832Z",
     "iopub.status.idle": "2025-02-21T08:46:31.107074Z",
     "shell.execute_reply": "2025-02-21T08:46:31.106279Z"
    },
    "papermill": {
     "duration": 0.011881,
     "end_time": "2025-02-21T08:46:31.108289",
     "exception": false,
     "start_time": "2025-02-21T08:46:31.096408",
     "status": "completed"
    },
    "tags": []
   },
   "outputs": [
    {
     "name": "stdout",
     "output_type": "stream",
     "text": [
      "You've successfully run some Python code\n",
      "Congratulations!\n"
     ]
    }
   ],
   "source": [
    "print(\"You've successfully run some Python code\")\n",
    "print(\"Congratulations!\")"
   ]
  },
  {
   "cell_type": "markdown",
   "id": "8cfc3eff",
   "metadata": {
    "papermill": {
     "duration": 0.003346,
     "end_time": "2025-02-21T08:46:31.115548",
     "exception": false,
     "start_time": "2025-02-21T08:46:31.112202",
     "status": "completed"
    },
    "tags": []
   },
   "source": [
    "Try adding another line of code in the cell above and re-running it. \n",
    "\n",
    "Now let's get a little fancier:  Add a new code cell by clicking on an existing code cell, hitting the escape key, and then hitting the `a` or `b` key.  The `a` key will add a cell above the current cell, and `b` adds a cell below.\n",
    "\n",
    "Great! Now you know how to use Notebooks.\n",
    "\n",
    "Each hands-on exercise starts by setting up our feedback and code checking mechanism. Run the code cell below to do that. Then you'll be ready to move on to question 0."
   ]
  },
  {
   "cell_type": "code",
   "execution_count": 2,
   "id": "a55082fe",
   "metadata": {
    "_kg_hide-input": true,
    "_kg_hide-output": true,
    "execution": {
     "iopub.execute_input": "2025-02-21T08:46:31.123826Z",
     "iopub.status.busy": "2025-02-21T08:46:31.123486Z",
     "iopub.status.idle": "2025-02-21T08:46:32.047993Z",
     "shell.execute_reply": "2025-02-21T08:46:32.046861Z"
    },
    "papermill": {
     "duration": 0.930712,
     "end_time": "2025-02-21T08:46:32.049768",
     "exception": false,
     "start_time": "2025-02-21T08:46:31.119056",
     "status": "completed"
    },
    "tags": []
   },
   "outputs": [
    {
     "name": "stdout",
     "output_type": "stream",
     "text": [
      "Setup complete! You're ready to start question 0.\n"
     ]
    }
   ],
   "source": [
    "from learntools.core import binder; binder.bind(globals())\n",
    "from learntools.python.ex1 import *\n",
    "print(\"Setup complete! You're ready to start question 0.\")"
   ]
  },
  {
   "cell_type": "markdown",
   "id": "1a5ae0a2",
   "metadata": {
    "papermill": {
     "duration": 0.003504,
     "end_time": "2025-02-21T08:46:32.057628",
     "exception": false,
     "start_time": "2025-02-21T08:46:32.054124",
     "status": "completed"
    },
    "tags": []
   },
   "source": [
    "# 0.\n",
    "\n",
    "*This is a silly question intended as an introduction to the format we use for hands-on exercises throughout all Kaggle courses.*\n",
    "\n",
    "**What is your favorite color? **\n",
    "\n",
    "To complete this question, create a variable called `color` in the cell below with an appropriate value. The function call `q0.check()` (which we've already provided in the cell below) will check your answer."
   ]
  },
  {
   "cell_type": "code",
   "execution_count": 3,
   "id": "bb658bce",
   "metadata": {
    "execution": {
     "iopub.execute_input": "2025-02-21T08:46:32.066385Z",
     "iopub.status.busy": "2025-02-21T08:46:32.065952Z",
     "iopub.status.idle": "2025-02-21T08:46:32.073637Z",
     "shell.execute_reply": "2025-02-21T08:46:32.072912Z"
    },
    "papermill": {
     "duration": 0.013807,
     "end_time": "2025-02-21T08:46:32.075213",
     "exception": false,
     "start_time": "2025-02-21T08:46:32.061406",
     "status": "completed"
    },
    "tags": []
   },
   "outputs": [
    {
     "name": "stdout",
     "output_type": "stream",
     "text": [
      "blue\n"
     ]
    },
    {
     "data": {
      "application/javascript": [
       "parent.postMessage({\"jupyterEvent\": \"custom.exercise_interaction\", \"data\": {\"outcomeType\": 1, \"valueTowardsCompletion\": 0.25, \"interactionType\": 1, \"questionType\": 2, \"questionId\": \"0_ExerciseFormatTutorial\", \"learnToolsVersion\": \"0.3.4\", \"failureMessage\": \"\", \"exceptionClass\": \"\", \"trace\": \"\"}}, \"*\")"
      ],
      "text/plain": [
       "<IPython.core.display.Javascript object>"
      ]
     },
     "metadata": {},
     "output_type": "display_data"
    },
    {
     "data": {
      "text/markdown": [
       "<span style=\"color:#33cc33\">Correct:</span> What?! You got it right without needing a hint or anything? Drats. Well hey, you should still continue to the next step to get some practice asking for a hint and checking solutions. (Even though you obviously don't need any help here.)"
      ],
      "text/plain": [
       "Correct: What?! You got it right without needing a hint or anything? Drats. Well hey, you should still continue to the next step to get some practice asking for a hint and checking solutions. (Even though you obviously don't need any help here.)"
      ]
     },
     "metadata": {},
     "output_type": "display_data"
    }
   ],
   "source": [
    "# create a variable called color with an appropriate value on the line below\n",
    "# (Remember, strings in Python must be enclosed in 'single' or \"double\" quotes)\n",
    "color = \"blue\"\n",
    "print(color)\n",
    "\n",
    "# Check your answer\n",
    "q0.check()"
   ]
  },
  {
   "cell_type": "markdown",
   "id": "67cb476e",
   "metadata": {
    "papermill": {
     "duration": 0.00373,
     "end_time": "2025-02-21T08:46:32.083515",
     "exception": false,
     "start_time": "2025-02-21T08:46:32.079785",
     "status": "completed"
    },
    "tags": []
   },
   "source": [
    "Didn't get the right answer? How do you not even know your own favorite color?!\n",
    "\n",
    "Delete the `#` in the line below to make one of the lines run. You can choose between getting a hint or the full answer by choosing which line to remove the `#` from. \n",
    "\n",
    "Removing the `#` is called uncommenting, because it changes that line from a \"comment\" which Python doesn't run to code, which Python does run."
   ]
  },
  {
   "cell_type": "code",
   "execution_count": 4,
   "id": "3f38857c",
   "metadata": {
    "execution": {
     "iopub.execute_input": "2025-02-21T08:46:32.092177Z",
     "iopub.status.busy": "2025-02-21T08:46:32.091856Z",
     "iopub.status.idle": "2025-02-21T08:46:32.094979Z",
     "shell.execute_reply": "2025-02-21T08:46:32.094221Z"
    },
    "papermill": {
     "duration": 0.008861,
     "end_time": "2025-02-21T08:46:32.096168",
     "exception": false,
     "start_time": "2025-02-21T08:46:32.087307",
     "status": "completed"
    },
    "tags": []
   },
   "outputs": [],
   "source": [
    "#q0.hint()\n",
    "#q0.solution()"
   ]
  },
  {
   "cell_type": "markdown",
   "id": "c4c5daa1",
   "metadata": {
    "papermill": {
     "duration": 0.003718,
     "end_time": "2025-02-21T08:46:32.104256",
     "exception": false,
     "start_time": "2025-02-21T08:46:32.100538",
     "status": "completed"
    },
    "tags": []
   },
   "source": [
    "The upcoming questions work the same way. The only thing that will change are the question numbers. For the next question, you'll call `q1.check()`, `q1.hint()`, `q1.solution()`, for question 2, you'll call `q2.check()`, and so on."
   ]
  },
  {
   "cell_type": "markdown",
   "id": "2b77adbf",
   "metadata": {
    "papermill": {
     "duration": 0.003525,
     "end_time": "2025-02-21T08:46:32.111567",
     "exception": false,
     "start_time": "2025-02-21T08:46:32.108042",
     "status": "completed"
    },
    "tags": []
   },
   "source": [
    "<hr/>\n",
    "\n",
    "# 1.\n",
    "\n",
    "Complete the code below. In case it's helpful, here is the table of available arithmetic operations:\n",
    "\n",
    "\n",
    "\n",
    "| Operator     | Name           | Description                                            |\n",
    "|--------------|----------------|--------------------------------------------------------|\n",
    "| ``a + b``    | Addition       | Sum of ``a`` and ``b``                                 |\n",
    "| ``a - b``    | Subtraction    | Difference of ``a`` and ``b``                          |\n",
    "| ``a * b``    | Multiplication | Product of ``a`` and ``b``                             |\n",
    "| ``a / b``    | True division  | Quotient of ``a`` and ``b``                            |\n",
    "| ``a // b``   | Floor division | Quotient of ``a`` and ``b``, removing fractional parts |\n",
    "| ``a % b``    | Modulus        | Integer remainder after division of ``a`` by ``b``     |\n",
    "| ``a ** b``   | Exponentiation | ``a`` raised to the power of ``b``                     |\n",
    "| ``-a``       | Negation       | The negative of ``a``                                  |\n",
    "\n",
    "<span style=\"display:none\"></span>\n"
   ]
  },
  {
   "cell_type": "code",
   "execution_count": 5,
   "id": "1c47333f",
   "metadata": {
    "execution": {
     "iopub.execute_input": "2025-02-21T08:46:32.120217Z",
     "iopub.status.busy": "2025-02-21T08:46:32.119893Z",
     "iopub.status.idle": "2025-02-21T08:46:32.125852Z",
     "shell.execute_reply": "2025-02-21T08:46:32.124839Z"
    },
    "papermill": {
     "duration": 0.012546,
     "end_time": "2025-02-21T08:46:32.127773",
     "exception": false,
     "start_time": "2025-02-21T08:46:32.115227",
     "status": "completed"
    },
    "tags": []
   },
   "outputs": [
    {
     "data": {
      "application/javascript": [
       "parent.postMessage({\"jupyterEvent\": \"custom.exercise_interaction\", \"data\": {\"outcomeType\": 1, \"valueTowardsCompletion\": 0.25, \"interactionType\": 1, \"questionType\": 1, \"questionId\": \"1_CircleArea\", \"learnToolsVersion\": \"0.3.4\", \"failureMessage\": \"\", \"exceptionClass\": \"\", \"trace\": \"\"}}, \"*\")"
      ],
      "text/plain": [
       "<IPython.core.display.Javascript object>"
      ]
     },
     "metadata": {},
     "output_type": "display_data"
    },
    {
     "data": {
      "text/markdown": [
       "<span style=\"color:#33cc33\">Correct</span>"
      ],
      "text/plain": [
       "Correct"
      ]
     },
     "metadata": {},
     "output_type": "display_data"
    }
   ],
   "source": [
    "\n",
    "pi = 3.14159 # approximate\n",
    "diameter = 3\n",
    "\n",
    "# Create a variable called 'radius' equal to half the diameter\n",
    "radius = diameter / 2\n",
    "\n",
    "# Create a variable called 'area', using the formula for the area of a circle: pi times the radius squared\n",
    "area = pi * radius ** 2\n",
    "\n",
    "# Check your answer\n",
    "q1.check()"
   ]
  },
  {
   "cell_type": "code",
   "execution_count": 6,
   "id": "7f8bfcf3",
   "metadata": {
    "execution": {
     "iopub.execute_input": "2025-02-21T08:46:32.137885Z",
     "iopub.status.busy": "2025-02-21T08:46:32.137434Z",
     "iopub.status.idle": "2025-02-21T08:46:32.141390Z",
     "shell.execute_reply": "2025-02-21T08:46:32.140229Z"
    },
    "papermill": {
     "duration": 0.010452,
     "end_time": "2025-02-21T08:46:32.142834",
     "exception": false,
     "start_time": "2025-02-21T08:46:32.132382",
     "status": "completed"
    },
    "tags": []
   },
   "outputs": [],
   "source": [
    "# Uncomment and run the lines below if you need help.\n",
    "#q1.hint()\n",
    "#q1.solution()"
   ]
  },
  {
   "cell_type": "markdown",
   "id": "3a1859bf",
   "metadata": {
    "papermill": {
     "duration": 0.003899,
     "end_time": "2025-02-21T08:46:32.151299",
     "exception": false,
     "start_time": "2025-02-21T08:46:32.147400",
     "status": "completed"
    },
    "tags": []
   },
   "source": [
    "<hr/>\n",
    "\n",
    "# 2.\n",
    "\n",
    "Add code to the following cell to swap variables `a` and `b` (so that `a` refers to the object previously referred to by `b` and vice versa)."
   ]
  },
  {
   "cell_type": "code",
   "execution_count": 7,
   "id": "60514cf0",
   "metadata": {
    "execution": {
     "iopub.execute_input": "2025-02-21T08:46:32.160445Z",
     "iopub.status.busy": "2025-02-21T08:46:32.160157Z",
     "iopub.status.idle": "2025-02-21T08:46:32.167890Z",
     "shell.execute_reply": "2025-02-21T08:46:32.166957Z"
    },
    "papermill": {
     "duration": 0.014387,
     "end_time": "2025-02-21T08:46:32.169661",
     "exception": false,
     "start_time": "2025-02-21T08:46:32.155274",
     "status": "completed"
    },
    "tags": []
   },
   "outputs": [
    {
     "data": {
      "application/javascript": [
       "parent.postMessage({\"jupyterEvent\": \"custom.exercise_interaction\", \"data\": {\"outcomeType\": 1, \"valueTowardsCompletion\": 0.25, \"interactionType\": 1, \"questionType\": 2, \"questionId\": \"2_VariableSwap\", \"learnToolsVersion\": \"0.3.4\", \"failureMessage\": \"\", \"exceptionClass\": \"\", \"trace\": \"\"}}, \"*\")"
      ],
      "text/plain": [
       "<IPython.core.display.Javascript object>"
      ]
     },
     "metadata": {},
     "output_type": "display_data"
    },
    {
     "data": {
      "text/markdown": [
       "<span style=\"color:#33cc33\">Correct:</span> \n",
       "\n",
       "The most straightforward solution is to use a third variable to temporarily store one of the old values. e.g.:\n",
       "\n",
       "    tmp = a\n",
       "    a = b\n",
       "    b = tmp\n",
       "\n",
       "If you've read lots of Python code, you might have seen the following trick to swap two variables in one line:\n",
       "\n",
       "    a, b = b, a\n",
       "\n",
       "We'll demystify this bit of Python magic later when we talk about *tuples*."
      ],
      "text/plain": [
       "Correct: \n",
       "\n",
       "The most straightforward solution is to use a third variable to temporarily store one of the old values. e.g.:\n",
       "\n",
       "    tmp = a\n",
       "    a = b\n",
       "    b = tmp\n",
       "\n",
       "If you've read lots of Python code, you might have seen the following trick to swap two variables in one line:\n",
       "\n",
       "    a, b = b, a\n",
       "\n",
       "We'll demystify this bit of Python magic later when we talk about *tuples*."
      ]
     },
     "metadata": {},
     "output_type": "display_data"
    }
   ],
   "source": [
    "########### Setup code - don't touch this part ######################\n",
    "# If you're curious, these are examples of lists. We'll talk about \n",
    "# them in depth a few lessons from now. For now, just know that they're\n",
    "# yet another type of Python object, like int or float.\n",
    "a = [1, 2, 3]\n",
    "b = [3, 2, 1]\n",
    "q2.store_original_ids()\n",
    "######################################################################\n",
    "\n",
    "# Your code goes here. Swap the values to which a and b refer.\n",
    "# If you get stuck, you can always uncomment one or both of the lines in\n",
    "# the next cell for a hint, or to peek at the solution.\n",
    "\n",
    "temp = a\n",
    "a = b\n",
    "b = temp\n",
    "\n",
    "######################################################################\n",
    "\n",
    "# Check your answer\n",
    "q2.check()"
   ]
  },
  {
   "cell_type": "code",
   "execution_count": 8,
   "id": "59a6cd02",
   "metadata": {
    "execution": {
     "iopub.execute_input": "2025-02-21T08:46:32.180213Z",
     "iopub.status.busy": "2025-02-21T08:46:32.179905Z",
     "iopub.status.idle": "2025-02-21T08:46:32.184230Z",
     "shell.execute_reply": "2025-02-21T08:46:32.182941Z"
    },
    "papermill": {
     "duration": 0.01129,
     "end_time": "2025-02-21T08:46:32.185988",
     "exception": false,
     "start_time": "2025-02-21T08:46:32.174698",
     "status": "completed"
    },
    "tags": []
   },
   "outputs": [],
   "source": [
    "#q2.hint()"
   ]
  },
  {
   "cell_type": "code",
   "execution_count": 9,
   "id": "f451941d",
   "metadata": {
    "execution": {
     "iopub.execute_input": "2025-02-21T08:46:32.196208Z",
     "iopub.status.busy": "2025-02-21T08:46:32.195929Z",
     "iopub.status.idle": "2025-02-21T08:46:32.199101Z",
     "shell.execute_reply": "2025-02-21T08:46:32.198324Z"
    },
    "papermill": {
     "duration": 0.009549,
     "end_time": "2025-02-21T08:46:32.200309",
     "exception": false,
     "start_time": "2025-02-21T08:46:32.190760",
     "status": "completed"
    },
    "tags": []
   },
   "outputs": [],
   "source": [
    "#q2.solution()"
   ]
  },
  {
   "cell_type": "markdown",
   "id": "15d7eb3d",
   "metadata": {
    "papermill": {
     "duration": 0.004066,
     "end_time": "2025-02-21T08:46:32.209846",
     "exception": false,
     "start_time": "2025-02-21T08:46:32.205780",
     "status": "completed"
    },
    "tags": []
   },
   "source": [
    "<hr/>\n",
    "\n",
    "# 3a.\n",
    "\n",
    "Add parentheses to the following expression so that it evaluates to 1."
   ]
  },
  {
   "cell_type": "code",
   "execution_count": 10,
   "id": "d0b2ac39",
   "metadata": {
    "execution": {
     "iopub.execute_input": "2025-02-21T08:46:32.219384Z",
     "iopub.status.busy": "2025-02-21T08:46:32.219105Z",
     "iopub.status.idle": "2025-02-21T08:46:32.224129Z",
     "shell.execute_reply": "2025-02-21T08:46:32.223249Z"
    },
    "papermill": {
     "duration": 0.011528,
     "end_time": "2025-02-21T08:46:32.225642",
     "exception": false,
     "start_time": "2025-02-21T08:46:32.214114",
     "status": "completed"
    },
    "tags": []
   },
   "outputs": [
    {
     "data": {
      "text/plain": [
       "4"
      ]
     },
     "execution_count": 10,
     "metadata": {},
     "output_type": "execute_result"
    }
   ],
   "source": [
    "5 - 3 // 2"
   ]
  },
  {
   "cell_type": "code",
   "execution_count": 11,
   "id": "91235f83",
   "metadata": {
    "execution": {
     "iopub.execute_input": "2025-02-21T08:46:32.235826Z",
     "iopub.status.busy": "2025-02-21T08:46:32.235452Z",
     "iopub.status.idle": "2025-02-21T08:46:32.239154Z",
     "shell.execute_reply": "2025-02-21T08:46:32.238146Z"
    },
    "papermill": {
     "duration": 0.010417,
     "end_time": "2025-02-21T08:46:32.240736",
     "exception": false,
     "start_time": "2025-02-21T08:46:32.230319",
     "status": "completed"
    },
    "tags": []
   },
   "outputs": [],
   "source": [
    "#q3.a.hint()"
   ]
  },
  {
   "cell_type": "code",
   "execution_count": 12,
   "id": "0e417a7b",
   "metadata": {
    "execution": {
     "iopub.execute_input": "2025-02-21T08:46:32.251085Z",
     "iopub.status.busy": "2025-02-21T08:46:32.250814Z",
     "iopub.status.idle": "2025-02-21T08:46:32.258200Z",
     "shell.execute_reply": "2025-02-21T08:46:32.256963Z"
    },
    "papermill": {
     "duration": 0.014477,
     "end_time": "2025-02-21T08:46:32.260158",
     "exception": false,
     "start_time": "2025-02-21T08:46:32.245681",
     "status": "completed"
    },
    "tags": []
   },
   "outputs": [
    {
     "data": {
      "application/javascript": [
       "parent.postMessage({\"jupyterEvent\": \"custom.exercise_interaction\", \"data\": {\"interactionType\": 3, \"questionType\": 4, \"questionId\": \"3.1_ArithmeticParensEasy\", \"learnToolsVersion\": \"0.3.4\", \"valueTowardsCompletion\": 0.0, \"failureMessage\": \"\", \"exceptionClass\": \"\", \"trace\": \"\", \"outcomeType\": 4}}, \"*\")"
      ],
      "text/plain": [
       "<IPython.core.display.Javascript object>"
      ]
     },
     "metadata": {},
     "output_type": "display_data"
    },
    {
     "data": {
      "text/markdown": [
       "<span style=\"color:#33cc99\">Solution:</span> \n",
       "```python\n",
       "(5 - 3) // 2\n",
       "```"
      ],
      "text/plain": [
       "Solution: \n",
       "```python\n",
       "(5 - 3) // 2\n",
       "```"
      ]
     },
     "metadata": {},
     "output_type": "display_data"
    }
   ],
   "source": [
    "# Check your answer (Run this code cell to receive credit!)\n",
    "q3.a.solution()"
   ]
  },
  {
   "cell_type": "markdown",
   "id": "d658a25e",
   "metadata": {
    "papermill": {
     "duration": 0.004329,
     "end_time": "2025-02-21T08:46:32.269636",
     "exception": false,
     "start_time": "2025-02-21T08:46:32.265307",
     "status": "completed"
    },
    "tags": []
   },
   "source": [
    "# 3b.  <span title=\"A bit spicy\" style=\"color: darkgreen \">🌶️</span>\n",
    "\n",
    "<small>Questions, like this one, marked a spicy pepper are a bit harder.</small>\n",
    "\n",
    "Add parentheses to the following expression so that it evaluates to 0."
   ]
  },
  {
   "cell_type": "code",
   "execution_count": 13,
   "id": "44a3fd95",
   "metadata": {
    "execution": {
     "iopub.execute_input": "2025-02-21T08:46:32.280121Z",
     "iopub.status.busy": "2025-02-21T08:46:32.279758Z",
     "iopub.status.idle": "2025-02-21T08:46:32.284272Z",
     "shell.execute_reply": "2025-02-21T08:46:32.283554Z"
    },
    "papermill": {
     "duration": 0.011523,
     "end_time": "2025-02-21T08:46:32.285611",
     "exception": false,
     "start_time": "2025-02-21T08:46:32.274088",
     "status": "completed"
    },
    "tags": []
   },
   "outputs": [
    {
     "data": {
      "text/plain": [
       "2"
      ]
     },
     "execution_count": 13,
     "metadata": {},
     "output_type": "execute_result"
    }
   ],
   "source": [
    "8 - 3 * 2 - 1 + 1"
   ]
  },
  {
   "cell_type": "code",
   "execution_count": 14,
   "id": "a0412958",
   "metadata": {
    "execution": {
     "iopub.execute_input": "2025-02-21T08:46:32.296492Z",
     "iopub.status.busy": "2025-02-21T08:46:32.296141Z",
     "iopub.status.idle": "2025-02-21T08:46:32.299501Z",
     "shell.execute_reply": "2025-02-21T08:46:32.298752Z"
    },
    "papermill": {
     "duration": 0.010112,
     "end_time": "2025-02-21T08:46:32.300757",
     "exception": false,
     "start_time": "2025-02-21T08:46:32.290645",
     "status": "completed"
    },
    "tags": []
   },
   "outputs": [],
   "source": [
    "#q3.b.hint()"
   ]
  },
  {
   "cell_type": "code",
   "execution_count": 15,
   "id": "95425c03",
   "metadata": {
    "execution": {
     "iopub.execute_input": "2025-02-21T08:46:32.311947Z",
     "iopub.status.busy": "2025-02-21T08:46:32.311581Z",
     "iopub.status.idle": "2025-02-21T08:46:32.317181Z",
     "shell.execute_reply": "2025-02-21T08:46:32.316514Z"
    },
    "papermill": {
     "duration": 0.012201,
     "end_time": "2025-02-21T08:46:32.318283",
     "exception": false,
     "start_time": "2025-02-21T08:46:32.306082",
     "status": "completed"
    },
    "tags": []
   },
   "outputs": [
    {
     "data": {
      "application/javascript": [
       "parent.postMessage({\"jupyterEvent\": \"custom.exercise_interaction\", \"data\": {\"interactionType\": 3, \"questionType\": 4, \"questionId\": \"3.2_ArithmeticParensHard\", \"learnToolsVersion\": \"0.3.4\", \"valueTowardsCompletion\": 0.0, \"failureMessage\": \"\", \"exceptionClass\": \"\", \"trace\": \"\", \"outcomeType\": 4}}, \"*\")"
      ],
      "text/plain": [
       "<IPython.core.display.Javascript object>"
      ]
     },
     "metadata": {},
     "output_type": "display_data"
    },
    {
     "data": {
      "text/markdown": [
       "<span style=\"color:#33cc99\">Solution:</span> `(8 - 3) * (2 - (1 + 1))` is one solution. There may be others."
      ],
      "text/plain": [
       "Solution: `(8 - 3) * (2 - (1 + 1))` is one solution. There may be others."
      ]
     },
     "metadata": {},
     "output_type": "display_data"
    }
   ],
   "source": [
    "# Check your answer (Run this code cell to receive credit!)\n",
    "q3.b.solution()"
   ]
  },
  {
   "cell_type": "markdown",
   "id": "bd393666",
   "metadata": {
    "papermill": {
     "duration": 0.004707,
     "end_time": "2025-02-21T08:46:32.328391",
     "exception": false,
     "start_time": "2025-02-21T08:46:32.323684",
     "status": "completed"
    },
    "tags": []
   },
   "source": [
    "<hr/>\n",
    "\n",
    "# 4. \n",
    "Alice, Bob and Carol have agreed to pool their Halloween candy and split it evenly among themselves.\n",
    "For the sake of their friendship, any candies left over will be smashed. For example, if they collectively\n",
    "bring home 91 candies, they'll take 30 each and smash 1.\n",
    "\n",
    "Write an arithmetic expression below to calculate how many candies they must smash for a given haul."
   ]
  },
  {
   "cell_type": "code",
   "execution_count": 16,
   "id": "585b7289",
   "metadata": {
    "execution": {
     "iopub.execute_input": "2025-02-21T08:46:32.339508Z",
     "iopub.status.busy": "2025-02-21T08:46:32.339178Z",
     "iopub.status.idle": "2025-02-21T08:46:32.346996Z",
     "shell.execute_reply": "2025-02-21T08:46:32.345906Z"
    },
    "papermill": {
     "duration": 0.015199,
     "end_time": "2025-02-21T08:46:32.348624",
     "exception": false,
     "start_time": "2025-02-21T08:46:32.333425",
     "status": "completed"
    },
    "tags": []
   },
   "outputs": [
    {
     "data": {
      "application/javascript": [
       "parent.postMessage({\"jupyterEvent\": \"custom.exercise_interaction\", \"data\": {\"outcomeType\": 1, \"valueTowardsCompletion\": 0.25, \"interactionType\": 1, \"questionType\": 1, \"questionId\": \"4_CandySplitting\", \"learnToolsVersion\": \"0.3.4\", \"failureMessage\": \"\", \"exceptionClass\": \"\", \"trace\": \"\"}}, \"*\")"
      ],
      "text/plain": [
       "<IPython.core.display.Javascript object>"
      ]
     },
     "metadata": {},
     "output_type": "display_data"
    },
    {
     "data": {
      "text/markdown": [
       "<span style=\"color:#33cc33\">Correct</span>"
      ],
      "text/plain": [
       "Correct"
      ]
     },
     "metadata": {},
     "output_type": "display_data"
    }
   ],
   "source": [
    "# Variables representing the number of candies collected by alice, bob, and carol\n",
    "alice_candies = 121\n",
    "bob_candies = 77\n",
    "carol_candies = 109\n",
    "\n",
    "# Your code goes here! Replace the right-hand side of this assignment with an expression\n",
    "# involving alice_candies, bob_candies, and carol_candies\n",
    "to_smash = (alice_candies + bob_candies + carol_candies) % 3\n",
    "\n",
    "# Check your answer\n",
    "q4.check()"
   ]
  },
  {
   "cell_type": "code",
   "execution_count": 17,
   "id": "d501a67f",
   "metadata": {
    "execution": {
     "iopub.execute_input": "2025-02-21T08:46:32.360502Z",
     "iopub.status.busy": "2025-02-21T08:46:32.360190Z",
     "iopub.status.idle": "2025-02-21T08:46:32.364177Z",
     "shell.execute_reply": "2025-02-21T08:46:32.363034Z"
    },
    "papermill": {
     "duration": 0.011829,
     "end_time": "2025-02-21T08:46:32.366025",
     "exception": false,
     "start_time": "2025-02-21T08:46:32.354196",
     "status": "completed"
    },
    "tags": []
   },
   "outputs": [],
   "source": [
    "#q4.hint()\n",
    "#q4.solution()"
   ]
  },
  {
   "cell_type": "markdown",
   "id": "e321d2f2",
   "metadata": {
    "papermill": {
     "duration": 0.004778,
     "end_time": "2025-02-21T08:46:32.376445",
     "exception": false,
     "start_time": "2025-02-21T08:46:32.371667",
     "status": "completed"
    },
    "tags": []
   },
   "source": [
    "# Keep Going\n",
    "\n",
    "Next up, you'll **[learn to write new functions and understand functions others write](https://www.kaggle.com/colinmorris/functions-and-getting-help)**. This will make you at least 10 times more productive as a Python programmer. "
   ]
  },
  {
   "cell_type": "markdown",
   "id": "4f9b8476",
   "metadata": {
    "papermill": {
     "duration": 0.005786,
     "end_time": "2025-02-21T08:46:32.387143",
     "exception": false,
     "start_time": "2025-02-21T08:46:32.381357",
     "status": "completed"
    },
    "tags": []
   },
   "source": [
    "---\n",
    "\n",
    "\n",
    "\n",
    "\n",
    "*Have questions or comments? Visit the [course discussion forum](https://www.kaggle.com/learn/python/discussion) to chat with other learners.*"
   ]
  }
 ],
 "metadata": {
  "kaggle": {
   "accelerator": "none",
   "dataSources": [],
   "isGpuEnabled": false,
   "isInternetEnabled": false,
   "language": "python",
   "sourceType": "notebook"
  },
  "kernelspec": {
   "display_name": "Python 3",
   "language": "python",
   "name": "python3"
  },
  "language_info": {
   "codemirror_mode": {
    "name": "ipython",
    "version": 3
   },
   "file_extension": ".py",
   "mimetype": "text/x-python",
   "name": "python",
   "nbconvert_exporter": "python",
   "pygments_lexer": "ipython3",
   "version": "3.10.12"
  },
  "learntools_metadata": {
   "lesson_index": 0,
   "type": "exercise"
  },
  "papermill": {
   "default_parameters": {},
   "duration": 4.065947,
   "end_time": "2025-02-21T08:46:32.912292",
   "environment_variables": {},
   "exception": null,
   "input_path": "__notebook__.ipynb",
   "output_path": "__notebook__.ipynb",
   "parameters": {},
   "start_time": "2025-02-21T08:46:28.846345",
   "version": "2.6.0"
  }
 },
 "nbformat": 4,
 "nbformat_minor": 5
}
