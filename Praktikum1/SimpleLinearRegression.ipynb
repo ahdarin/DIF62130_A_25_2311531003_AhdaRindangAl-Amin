{
  "nbformat": 4,
  "nbformat_minor": 0,
  "metadata": {
    "colab": {
      "provenance": [],
      "authorship_tag": "ABX9TyNrLwExQ3Xro2EANkJ63r9N",
      "include_colab_link": true
    },
    "kernelspec": {
      "name": "python3",
      "display_name": "Python 3"
    },
    "language_info": {
      "name": "python"
    }
  },
  "cells": [
    {
      "cell_type": "markdown",
      "metadata": {
        "id": "view-in-github",
        "colab_type": "text"
      },
      "source": [
        "<a href=\"https://colab.research.google.com/github/ahdarin/DIF62130_A_25_2311531003_AhdaRindangAl-Amin/blob/main/Praktikum1/SimpleLinearRegression.ipynb\" target=\"_parent\"><img src=\"https://colab.research.google.com/assets/colab-badge.svg\" alt=\"Open In Colab\"/></a>"
      ]
    },
    {
      "cell_type": "markdown",
      "source": [
        "Ahda Rindang Al-Amin\n",
        "2311531003"
      ],
      "metadata": {
        "id": "oqhwpG_vMNsH"
      }
    },
    {
      "cell_type": "code",
      "execution_count": null,
      "metadata": {
        "id": "Qcz1aY2QKY2l"
      },
      "outputs": [],
      "source": []
    }
  ]
}